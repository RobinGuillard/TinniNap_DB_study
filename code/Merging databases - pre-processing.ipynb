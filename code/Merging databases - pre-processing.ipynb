{
 "cells": [
  {
   "cell_type": "code",
   "execution_count": 38,
   "metadata": {},
   "outputs": [],
   "source": [
    "import pandas as pd\n",
    "import os\n",
    "import numpy as np\n",
    "from datetime import datetime"
   ]
  },
  {
   "cell_type": "code",
   "execution_count": 39,
   "metadata": {},
   "outputs": [
    {
     "name": "stdout",
     "output_type": "stream",
     "text": [
      "['Unnamed: 0', 'constant_id', 'age', 'sex', 'mdi_1', 'mdi_2', 'mdi_3', 'mdi_4', 'mdi_5', 'mdi_6', 'mdi_7', 'mdi_8a', 'mdi_8b', 'mdi_9', 'mdi_10a', 'mdi_10b', 'mdi_score', 'tfi_1', 'tfi_2', 'tfi_3', 'tfi_4', 'tfi_5', 'tfi_6', 'tfi_7', 'tfi_8', 'tfi_9', 'tfi_10', 'tfi_11', 'tfi_12', 'tfi_13', 'tfi_14', 'tfi_15', 'tfi_16', 'tfi_17', 'tfi_18', 'tfi_19', 'tfi_20', 'tfi_21', 'tfi_22', 'tfi_23', 'tfi_24', 'tfi_25', 'thi_1', 'thi_2', 'thi_3', 'thi_4', 'thi_5', 'thi_6', 'thi_7', 'thi_8', 'thi_9', 'thi_10', 'thi_11', 'thi_12', 'thi_13', 'thi_14', 'thi_15', 'thi_16', 'thi_17', 'thi_18', 'thi_19', 'thi_20', 'thi_21', 'thi_22', 'thi_23', 'thi_24', 'thi_25', 'thi_score', 'tq_1', 'tq_2', 'tq_3', 'tq_4', 'tq_5', 'tq_6', 'tq_7', 'tq_8', 'tq_9', 'tq_10', 'tq_11', 'tq_12', 'tq_13', 'tq_14', 'tq_15', 'tq_16', 'tq_17', 'tq_18', 'tq_19', 'tq_20', 'tq_21', 'tq_22', 'tq_23', 'tq_24', 'tq_25', 'tq_26', 'tq_27', 'tq_28', 'tq_29', 'tq_30', 'tq_31', 'tq_32', 'tq_33', 'tq_34', 'tq_35', 'tq_36', 'tq_37', 'tq_38', 'tq_39', 'tq_40', 'tq_41', 'tq_42', 'tq_43', 'tq_44', 'tq_45', 'tq_46', 'tq_47', 'tq_48', 'tq_49', 'tq_50', 'tq_51', 'tq_52', 'tq_score', 'ts_1', 'ts_2', 'ts_3', 'ts_4', 'ts_5', 'ts_6', 'whoqol_1', 'whoqol_2', 'whoqol_3', 'whoqol_4', 'tschq-personal_loudness', 'tschq-months_onset', 'tschq-awareness_time', 'tschq-angerness_time', 'tschq-psychiatry', 'tschq-neckpain', 'tschq-tmj', 'tschq-vertigo', 'tschq-headache', 'tschq-noise-pain', 'tschq-hyperacusis', 'tschq-ha', 'tschq-hearproblems', 'tschq-stress', 'tschq-sleep', 'tschq-nap', 'tschq-somatic', 'tschq-sounds-worsen-tinnitus', 'tschq-sounds-suppress-tinnitus', 'tschq-n-treatments', 'tschq-tinpitch', 'tschq-tintype', 'tin_tonal', 'tschq-fluctuations', 'tschq-intermitent', 'tschq-tinside', 'tschq-pulsating', 'Puls_yes', 'puls_yes_but_not_heartbeat', 'Puls_no', 'tschq-cause', 'Cause_head_trauma_or_whisplash', 'cause_stress', 'cause_change_hearing', 'other', 'tschq-innital-perception', 'tschq-familiy', 'tfi_score', 'tfi_intrusive', 'tfi_sense_of_control', 'tfi_cognitive', 'tfi_sleep', 'tfi_auditory', 'tfi_relaxation', 'tfi_qol', 'tfi_emotional', 'lines_to_drop', 'tinnitus_laterality']\n",
      "['Unnamed: 0', 'constant_id', 'age', 'sex', 'ts_2', 'ts_4', 'tschq-personal_loudness', 'tschq-months_onset', 'tschq-awareness_time', 'tschq-neckpain', 'tschq-tmj', 'tschq-headache', 'tschq-hearproblems', 'tschq-stress', 'tschq-sleep', 'tschq-nap', 'tschq-somatic', 'tschq-sounds-worsen-tinnitus', 'tschq-sounds-suppress-tinnitus', 'tschq-tintype', 'tin_tonal', 'tschq-fluctuations', 'tschq-intermitent', 'tschq-pulsating', 'Puls_yes', 'puls_yes_but_not_heartbeat', 'Puls_no', 'tschq-cause', 'Cause_head_trauma_or_whisplash', 'cause_stress', 'cause_change_hearing', 'other']\n",
      "32\n"
     ]
    }
   ],
   "source": [
    "os.chdir(\"D:/Documents/Thèse EDISCE/TinniNap_DB_study/data/merge_DB/\")\n",
    "sleep_data = pd.read_csv(\"Jorge_Straudinger_data_clean_v4.csv\", sep=\";\",\n",
    "    # Tell pandas to use all rows to guess the column types\n",
    "    low_memory=False)\n",
    "print(list(sleep_data.columns))\n",
    "columns_to_drop = ['mdi_1', 'mdi_2', 'mdi_3', 'mdi_4', 'mdi_5', 'mdi_6', 'mdi_7', 'mdi_8a', 'mdi_8b', 'mdi_9', 'mdi_10a', 'mdi_10b', 'mdi_score', 'tfi_1', 'tfi_2', 'tfi_3', 'tfi_4', 'tfi_5', 'tfi_6', 'tfi_7', 'tfi_8', 'tfi_9', 'tfi_10', 'tfi_11', 'tfi_12', 'tfi_13', 'tfi_14', 'tfi_15', 'tfi_16', 'tfi_17', 'tfi_18', 'tfi_19', 'tfi_20', 'tfi_21', 'tfi_22', 'tfi_23', 'tfi_24', 'tfi_25', 'thi_1', 'thi_2', 'thi_3', 'thi_4', 'thi_5', 'thi_6', 'thi_7', 'thi_8', 'thi_9', 'thi_10', 'thi_11', 'thi_12', 'thi_13', 'thi_14', 'thi_15', 'thi_16', 'thi_17', 'thi_18', 'thi_19', 'thi_20', 'thi_21', 'thi_22', 'thi_23', 'thi_24', 'thi_25', 'thi_score', 'tq_1', 'tq_2', 'tq_3', 'tq_4', 'tq_5', 'tq_6', 'tq_7', 'tq_8', 'tq_9', 'tq_10', 'tq_11', 'tq_12', 'tq_13', 'tq_14', 'tq_15', 'tq_16', 'tq_17', 'tq_18', 'tq_19', 'tq_20', 'tq_21', 'tq_22', 'tq_23', 'tq_24', 'tq_25', 'tq_26', 'tq_27', 'tq_28', 'tq_29', 'tq_30', 'tq_31', 'tq_32', 'tq_33', 'tq_34', 'tq_35', 'tq_36', 'tq_37', 'tq_38', 'tq_39', 'tq_40', 'tq_41', 'tq_42', 'tq_43', 'tq_44', 'tq_45', 'tq_46', 'tq_47', 'tq_48', 'tq_49', 'tq_50', 'tq_51', 'tq_52', 'tq_score',\n",
    "                                      'ts_1', 'ts_3', 'ts_5', 'ts_6', 'whoqol_1', 'whoqol_2', 'whoqol_3', 'whoqol_4',\n",
    "                                     'tschq-familiy', 'tfi_score', 'tfi_intrusive', 'tfi_sense_of_control', 'tfi_cognitive', 'tfi_sleep', 'tfi_auditory', 'tfi_relaxation', 'tfi_qol', 'tfi_emotional', 'lines_to_drop', 'tinnitus_laterality',\n",
    "                                       'tschq-angerness_time', 'tschq-psychiatry', 'tschq-vertigo', 'tschq-noise-pain', 'tschq-hyperacusis', 'tschq-ha',\n",
    "                                       'tschq-n-treatments', 'tschq-tinpitch', 'tschq-tinside', 'tschq-innital-perception',\n",
    "                                       \n",
    "                                    ]\n",
    "sleep_data = sleep_data.drop(columns=columns_to_drop)\n",
    "print(list(sleep_data.columns))\n",
    "print(len(list(sleep_data.columns)))\n"
   ]
  },
  {
   "cell_type": "code",
   "execution_count": 40,
   "metadata": {},
   "outputs": [],
   "source": [
    "\n",
    "sleep_data['tschq-sounds-worsen-tinnitus'] = sleep_data['tschq-sounds-worsen-tinnitus'].map({0:1, 1:0, 2:np.nan},\n",
    "                             na_action=None)\n",
    "sleep_data['tschq-sounds-suppress-tinnitus'] = sleep_data['tschq-sounds-suppress-tinnitus'].map({0:1, 1:0, 2:np.nan},\n",
    "                             na_action=None)\n",
    "sleep_data[\"tschq-hearproblems\"] = sleep_data['tschq-hearproblems'].map({0:1, 1:0, 2:np.nan},\n",
    "                             na_action=None)\n",
    "sleep_data['tschq-headache'] = sleep_data['tschq-headache'].map({0:1, 1:0, 2:np.nan},\n",
    "                             na_action=None)\n",
    "sleep_data['tschq-neckpain'] = sleep_data['tschq-neckpain'].map({0:1, 1:0, 2:np.nan},\n",
    "                             na_action=None)\n",
    "sleep_data['tschq-tmj'] = sleep_data['tschq-tmj'].map({0:1, 1:0, 2:np.nan},\n",
    "                             na_action=None)\n",
    "sleep_data['tschq-cause'] = sleep_data['tschq-cause'].map({0:1, 1:0, 2:0,3:0,4:0,5:0,6:0,7:0},\n",
    "                             na_action=None)\n",
    "\n",
    "sleep_data['tschq-stress'] = sleep_data['tschq-stress'].map({0:-1, 1:1, 2:0},\n",
    "                             na_action=None)\n"
   ]
  },
  {
   "cell_type": "code",
   "execution_count": 42,
   "metadata": {},
   "outputs": [],
   "source": [
    "sleep_data.to_csv(\"getting_close_for_merge_TRI.csv\", sep=\";\")"
   ]
  },
  {
   "cell_type": "code",
   "execution_count": 43,
   "metadata": {},
   "outputs": [
    {
     "name": "stdout",
     "output_type": "stream",
     "text": [
      "['TimeTin-months', 'Female', 'Age', 'MeanLoudness', 'cause_Head or neck injury', 'cause_Psychological (stress, anxiety, depression)', 'cause_Noise trauma', 'Cause_change_hearing', 'ReactSound_Worse', 'HearingLoss', 'HearingLoss_Echelle', 'pain_cervical', 'Headache_YesorNo', 'Tin_somato', 'TMJ_problem', 'TinType_A pure tone / single pitch', 'TinType_A whooshing noise - not in time with the pulse', 'tin_puls', 'InflStress', 'InflAnxiety', 'InflGoodSleep', 'InflBadSleep', 'InflNap', 'Tin_masked', 'MeanAnnoyancePastWeek', 'AwarenessOpenEnded']\n"
     ]
    }
   ],
   "source": [
    "os.chdir(\"D:/Documents/Thèse EDISCE/TinniNap_DB_study/data/merge_DB/\")\n",
    "sleep_data2 = pd.read_csv(\"merge_DB_v2.csv\", sep=\";\",\n",
    "    # Tell pandas to use all rows to guess the column types\n",
    "    low_memory=False)\n",
    "print(list(sleep_data2.columns))\n",
    "\n"
   ]
  },
  {
   "cell_type": "code",
   "execution_count": 45,
   "metadata": {},
   "outputs": [],
   "source": [
    "sleep_data2['HearingLoss'] = sleep_data2['HearingLoss'].map({0:0, 1:1, 2:1,3:1,4:1,5:1},\n",
    "                             na_action=None)\n",
    "\n",
    "\n",
    "sleep_data2['InflStress'] = sleep_data2['InflStress'].map({-2:-1,-1:-1,0:0,1:1, 2:1},\n",
    "                             na_action=None)\n",
    "sleep_data2['InflNap'] = sleep_data2['InflNap'].map({-2:-1,-1:-1,0:0,1:1, 2:1},\n",
    "                             na_action=None)"
   ]
  },
  {
   "cell_type": "code",
   "execution_count": 46,
   "metadata": {},
   "outputs": [],
   "source": [
    "sleep_data2.to_csv(\"getting_close_for_merge_SM.csv\", sep=\";\")"
   ]
  },
  {
   "cell_type": "code",
   "execution_count": null,
   "metadata": {},
   "outputs": [],
   "source": [
    "# first list contains features from TRI, second from SM\n",
    "#this list only contains features that are already encoded similarly\n",
    "common_features=[['sex', 'age', 'tschq-months_onset', 'ts_2', 'ts_4', 'tschq-awareness_time'],['Female', 'Age', 'TimeTin-months', 'MeanLoudness', 'MeanAnnoyancePastWeek', 'AwarenessOpenEnded']] #ts_2 : VAS-L, ts_4 : annoyance\n",
    "#here are the features that need a little more work\n",
    "soon_common_features = [[],[]]"
   ]
  },
  {
   "cell_type": "code",
   "execution_count": 69,
   "metadata": {},
   "outputs": [],
   "source": [
    "\n"
   ]
  },
  {
   "cell_type": "code",
   "execution_count": null,
   "metadata": {},
   "outputs": [],
   "source": []
  },
  {
   "cell_type": "code",
   "execution_count": null,
   "metadata": {},
   "outputs": [],
   "source": []
  },
  {
   "cell_type": "code",
   "execution_count": null,
   "metadata": {},
   "outputs": [],
   "source": []
  },
  {
   "cell_type": "code",
   "execution_count": 72,
   "metadata": {},
   "outputs": [
    {
     "name": "stdout",
     "output_type": "stream",
     "text": [
      "sleep_data['tschq-personal_loudness'] = sleep_data['tschq_q12_personal_volume']\n",
      "sleep_data['tschq-months_onset'] = sleep_data['tschq_months_since_begin_tinnitus']\n",
      "sleep_data['tschq-awareness_time'] = sleep_data['tschq_q16_awareness']\n",
      "sleep_data['tschq-angerness_time'] = sleep_data['tschq_q17_angerness']\n",
      "sleep_data['tschq-psychiatry'] = sleep_data['tschq_q35_psychological_treatment']\n",
      "sleep_data['tschq-neckpain'] = sleep_data['tschq_q33_nape_problems']\n",
      "sleep_data['tschq-tmj'] = sleep_data['tschq_q32_jaw_problems']\n",
      "sleep_data['tschq-vertigo'] = sleep_data['tschq_q31_bogus']\n",
      "sleep_data['tschq-headache'] = sleep_data['tschq_q30_headache']\n",
      "sleep_data['tschq-noise-pain'] = sleep_data['tschq_q29_noise_dependent']\n",
      "sleep_data['tschq-hyperacusis'] = sleep_data['tschq_q28_noise_sensitive']\n",
      "sleep_data['tschq-ha'] = sleep_data['tschq_q27_hear_helps']\n",
      "sleep_data['tschq-hearproblems'] = sleep_data['tschq_q26_hear_problems']\n",
      "sleep_data['tschq-stress'] = sleep_data['tschq_q24_stress_correlation']\n",
      "sleep_data['tschq-sleep'] = sleep_data['tschq_q23_sleep_correlation']\n",
      "sleep_data['tschq-nap'] = sleep_data['tschq_q22_nap_change']\n",
      "sleep_data['tschq-somatic'] = sleep_data['tschq_q21_head_change']\n",
      "sleep_data['tschq-sounds-worsen-tinnitus'] = sleep_data['tschq_q20_context_change']\n",
      "sleep_data['tschq-sounds-suppress-tinnitus'] = sleep_data['tschq_q19_context_volume']\n",
      "sleep_data['tschq-n-treatments'] = sleep_data['tschq_q18_treatment_count']\n",
      "sleep_data['tschq-tinpitch'] = sleep_data['tschq_q15_tone_frequency']\n",
      "sleep_data['tschq-tintype'] = sleep_data['tschq_q14_tone_type']\n",
      "sleep_data['tschq-fluctuations'] = sleep_data['tschq_q11_daily_volume']\n",
      "sleep_data['tschq-intermitent'] = sleep_data['tschq_q10_history']\n",
      "sleep_data['tschq-tinside'] = sleep_data['tschq_q9_perception']\n",
      "sleep_data['tschq-pulsating'] = sleep_data['tschq_q8_pulsating']\n",
      "# maudite\n",
      "sleep_data['tschq-cause'] = sleep_data['tschq_q7_begin_correlation']\n",
      "sleep_data['tschq-innital-perception'] = sleep_data['tschq_q6_begin_perception']\n",
      "sleep_data['tschq-familiy'] = sleep_data['tschq_q4_family']\n"
     ]
    }
   ],
   "source": [
    "#Guide des attributions de variables\n",
    "st =\"\"\"sleep_data['tschq.personal_loudness = tschq_q12_personal_volume,\n",
    "sleep_data['tschq.months_onset = tschq_months_since_begin_tinnitus,\n",
    "sleep_data['tschq.awareness_time = tschq_q16_awareness,\n",
    "sleep_data['tschq.angerness_time = tschq_q17_angerness,\n",
    "sleep_data['tschq.psychiatry = tschq_q35_psychological_treatment,\n",
    "sleep_data['tschq.neckpain = tschq_q33_nape_problems,\n",
    "sleep_data['tschq.tmj = tschq_q32_jaw_problems,\n",
    "sleep_data['tschq.vertigo = tschq_q31_bogus,\n",
    "sleep_data['tschq.headache = tschq_q30_headache,\n",
    "sleep_data['tschq.noise.pain = tschq_q29_noise_dependent,\n",
    "sleep_data['tschq.hyperacusis = tschq_q28_noise_sensitive,\n",
    "sleep_data['tschq.ha = tschq_q27_hear_helps,\n",
    "sleep_data['tschq.hearproblems = tschq_q26_hear_problems,\n",
    "sleep_data['tschq.stress = tschq_q24_stress_correlation,\n",
    "sleep_data['tschq.sleep = tschq_q23_sleep_correlation,\n",
    "sleep_data['tschq.nap = tschq_q22_nap_change,\n",
    "sleep_data['tschq.somatic = tschq_q21_head_change,\n",
    "sleep_data['tschq.sounds.worsen.tinnitus = tschq_q20_context_change,\n",
    "sleep_data['tschq.sounds.suppress.tinnitus = tschq_q19_context_volume,\n",
    "sleep_data['tschq.n.treatments = tschq_q18_treatment_count,\n",
    "sleep_data['tschq.tinpitch = tschq_q15_tone_frequency,\n",
    "sleep_data['tschq.tintype = tschq_q14_tone_type,\n",
    "sleep_data['tschq.fluctuations = tschq_q11_daily_volume,\n",
    "sleep_data['tschq.intermitent = tschq_q10_history,\n",
    "sleep_data['tschq.tinside = tschq_q9_perception,\n",
    "sleep_data['tschq.pulsating = tschq_q8_pulsating,\n",
    "# maudite\n",
    "sleep_data['tschq.cause = tschq_q7_begin_correlation,\n",
    "sleep_data['tschq.innital.perception = tschq_q6_begin_perception,\n",
    "sleep_data['tschq.familiy = tschq_q4_family,\"\"\"\n",
    "st = st.replace(\".\",\"-\")\n",
    "st = st.replace(\" = \",\"'] = sleep_data['\")\n",
    "st = st.replace(\",\",\"']\")\n",
    "print(st)"
   ]
  },
  {
   "cell_type": "code",
   "execution_count": 73,
   "metadata": {},
   "outputs": [],
   "source": [
    "sleep_data['tschq-personal_loudness'] = sleep_data['tschq_q12_personal_volume']\n",
    "sleep_data['tschq-months_onset'] = sleep_data['tschq_months_since_begin_tinnitus']\n",
    "sleep_data['tschq-awareness_time'] = sleep_data['tschq_q16_awareness']\n",
    "sleep_data['tschq-angerness_time'] = sleep_data['tschq_q17_angerness']\n",
    "sleep_data['tschq-psychiatry'] = sleep_data['tschq_q35_psychological_treatment']\n",
    "sleep_data['tschq-neckpain'] = sleep_data['tschq_q33_nape_problems']\n",
    "sleep_data['tschq-tmj'] = sleep_data['tschq_q32_jaw_problems']\n",
    "sleep_data['tschq-vertigo'] = sleep_data['tschq_q31_bogus']\n",
    "sleep_data['tschq-headache'] = sleep_data['tschq_q30_headache']\n",
    "sleep_data['tschq-noise-pain'] = sleep_data['tschq_q29_noise_dependent']\n",
    "sleep_data['tschq-hyperacusis'] = sleep_data['tschq_q28_noise_sensitive']\n",
    "sleep_data['tschq-ha'] = sleep_data['tschq_q27_hear_helps']\n",
    "sleep_data['tschq-hearproblems'] = sleep_data['tschq_q26_hear_problems']\n",
    "sleep_data['tschq-stress'] = sleep_data['tschq_q24_stress_correlation']\n",
    "sleep_data['tschq-sleep'] = sleep_data['tschq_q23_sleep_correlation']\n",
    "sleep_data['tschq-nap'] = sleep_data['tschq_q22_nap_change']\n",
    "sleep_data['tschq-somatic'] = sleep_data['tschq_q21_head_change']\n",
    "sleep_data['tschq-sounds-worsen-tinnitus'] = sleep_data['tschq_q20_context_change']\n",
    "sleep_data['tschq-sounds-suppress-tinnitus'] = sleep_data['tschq_q19_context_volume']\n",
    "sleep_data['tschq-n-treatments'] = sleep_data['tschq_q18_treatment_count']\n",
    "sleep_data['tschq-tinpitch'] = sleep_data['tschq_q15_tone_frequency']\n",
    "sleep_data['tschq-tintype'] = sleep_data['tschq_q14_tone_type']\n",
    "sleep_data['tschq-fluctuations'] = sleep_data['tschq_q11_daily_volume']\n",
    "sleep_data['tschq-intermitent'] = sleep_data['tschq_q10_history']\n",
    "sleep_data['tschq-tinside'] = sleep_data['tschq_q9_perception']\n",
    "sleep_data['tschq-pulsating'] = sleep_data['tschq_q8_pulsating']\n",
    "# maudite\n",
    "sleep_data['tschq-cause'] = sleep_data['tschq_q7_begin_correlation']\n",
    "sleep_data['tschq-innital-perception'] = sleep_data['tschq_q6_begin_perception']\n",
    "sleep_data['tschq-familiy'] = sleep_data['tschq_q4_family']\n"
   ]
  },
  {
   "cell_type": "code",
   "execution_count": 74,
   "metadata": {},
   "outputs": [
    {
     "name": "stdout",
     "output_type": "stream",
     "text": [
      "0       1.0\n",
      "1       0.0\n",
      "2       0.0\n",
      "3       2.0\n",
      "4       2.0\n",
      "       ... \n",
      "4842    4.0\n",
      "4843    4.0\n",
      "4844    4.0\n",
      "4845    2.0\n",
      "4846    2.0\n",
      "Name: tschq-tinside, Length: 4847, dtype: category\n",
      "Categories (8, float64): [0.0, 1.0, 2.0, 3.0, 4.0, 5.0, 6.0, 7.0]\n",
      "True\n"
     ]
    }
   ],
   "source": [
    "old_tfi = sleep_data['tfi_score']\n",
    "\n",
    "print(sleep_data['tschq-tinside'])\n",
    "print(list(sleep_data.columns).__contains__(\"tschq-tinside\"))"
   ]
  },
  {
   "cell_type": "markdown",
   "metadata": {},
   "source": [
    "# verifier si ça fait du bon boulot"
   ]
  },
  {
   "cell_type": "code",
   "execution_count": 75,
   "metadata": {},
   "outputs": [
    {
     "name": "stderr",
     "output_type": "stream",
     "text": [
      "C:\\Users\\robin\\anaconda3\\lib\\site-packages\\pandas\\core\\frame.py:3065: SettingWithCopyWarning: \n",
      "A value is trying to be set on a copy of a slice from a DataFrame.\n",
      "Try using .loc[row_indexer,col_indexer] = value instead\n",
      "\n",
      "See the caveats in the documentation: https://pandas.pydata.org/pandas-docs/stable/user_guide/indexing.html#returning-a-view-versus-a-copy\n",
      "  self[k1] = value[k2]\n",
      "<ipython-input-75-7080acb24337>:13: FutureWarning: The pandas.np module is deprecated and will be removed from pandas in a future version. Import numpy directly instead\n",
      "  res[x_subset.isna().sum(axis=1) > n_max_missing_items] = pd.np.nan\n",
      "<ipython-input-75-7080acb24337>:13: FutureWarning: The pandas.np module is deprecated and will be removed from pandas in a future version. Import numpy directly instead\n",
      "  res[x_subset.isna().sum(axis=1) > n_max_missing_items] = pd.np.nan\n",
      "<ipython-input-75-7080acb24337>:13: FutureWarning: The pandas.np module is deprecated and will be removed from pandas in a future version. Import numpy directly instead\n",
      "  res[x_subset.isna().sum(axis=1) > n_max_missing_items] = pd.np.nan\n",
      "<ipython-input-75-7080acb24337>:13: FutureWarning: The pandas.np module is deprecated and will be removed from pandas in a future version. Import numpy directly instead\n",
      "  res[x_subset.isna().sum(axis=1) > n_max_missing_items] = pd.np.nan\n",
      "<ipython-input-75-7080acb24337>:13: FutureWarning: The pandas.np module is deprecated and will be removed from pandas in a future version. Import numpy directly instead\n",
      "  res[x_subset.isna().sum(axis=1) > n_max_missing_items] = pd.np.nan\n",
      "<ipython-input-75-7080acb24337>:13: FutureWarning: The pandas.np module is deprecated and will be removed from pandas in a future version. Import numpy directly instead\n",
      "  res[x_subset.isna().sum(axis=1) > n_max_missing_items] = pd.np.nan\n",
      "<ipython-input-75-7080acb24337>:13: FutureWarning: The pandas.np module is deprecated and will be removed from pandas in a future version. Import numpy directly instead\n",
      "  res[x_subset.isna().sum(axis=1) > n_max_missing_items] = pd.np.nan\n",
      "<ipython-input-75-7080acb24337>:13: FutureWarning: The pandas.np module is deprecated and will be removed from pandas in a future version. Import numpy directly instead\n",
      "  res[x_subset.isna().sum(axis=1) > n_max_missing_items] = pd.np.nan\n",
      "<ipython-input-75-7080acb24337>:13: FutureWarning: The pandas.np module is deprecated and will be removed from pandas in a future version. Import numpy directly instead\n",
      "  res[x_subset.isna().sum(axis=1) > n_max_missing_items] = pd.np.nan\n"
     ]
    }
   ],
   "source": [
    "import pandas as pd\n",
    "import re\n",
    "\n",
    "tfi_scores_recipes = pd.DataFrame({\n",
    "    'score': ['tfi_score', 'tfi_intrusive', 'tfi_sense_of_control', 'tfi_cognitive', 'tfi_sleep', 'tfi_auditory', 'tfi_relaxation', 'tfi_qol', 'tfi_emotional'],\n",
    "    'regex': ['^tfi_[0-9]{1,2}$', '^tfi_[123]$', '^tfi_[456]$', '^tfi_[789]$', '^tfi_1[012]$', '^tfi_1[345]$', '^tfi_1[678]$', '^tfi_(19|20|21|22)$', '^tfi_2[345]$'],\n",
    "    'n_max_missing_items': [6, 1, 1, 1, 1, 1, 1, 1, 1]\n",
    "})\n",
    "\n",
    "def compute_tfi_scores(x, score, regex, n_max_missing_items):\n",
    "    x_subset = x.filter(regex=regex)\n",
    "    res = x_subset.mean(axis=1) * 10\n",
    "    res[x_subset.isna().sum(axis=1) > n_max_missing_items] = pd.np.nan\n",
    "    return pd.DataFrame({score: res})\n",
    "\n",
    "longitudinal_data_tfi = sleep_data.filter(regex='^tfi_')\n",
    "longitudinal_data_tfi[['tfi_1','tfi_3']] = longitudinal_data_tfi[['tfi_1','tfi_3']] // 10\n",
    "tfi_scores = longitudinal_data_tfi.pipe(lambda x: pd.concat([compute_tfi_scores(x, *args) for args in tfi_scores_recipes.values], axis=1))\n",
    "sleep_data = pd.concat([sleep_data.drop(columns='tfi_score'), tfi_scores], axis=1)"
   ]
  },
  {
   "cell_type": "code",
   "execution_count": 47,
   "metadata": {},
   "outputs": [
    {
     "name": "stdout",
     "output_type": "stream",
     "text": [
      "[nan, 50.4, nan, nan, nan, 75.4167, nan, nan, nan, nan, nan, 47.6, nan, nan, 45.6, nan, nan, nan, nan, nan, nan, nan, 13.6, nan, nan, nan, nan, nan, nan, nan, nan, 42.4, nan, nan, nan, nan, nan, nan, nan, nan, nan, nan, nan, nan, nan, nan, nan, nan, nan, nan, nan, 57.9167, nan, nan, nan, nan, nan, nan, nan, nan, nan, nan, nan, 48.0, 63.6, nan, nan, nan, nan, nan, 72.0, 72.0, nan, nan, nan, nan, nan, nan, nan, nan, nan, nan, nan, nan, nan, nan, nan, nan, nan, 78.8, 78.8, nan, nan, nan, 57.2, 38.0, nan, 71.6, 35.6, nan]\n",
      "[nan, 50.4, nan, nan, nan, 75.41666666666667, nan, nan, nan, nan, nan, 47.599999999999994, nan, nan, 45.599999999999994, nan, nan, nan, nan, nan, nan, nan, 13.600000000000001, nan, nan, nan, nan, nan, nan, nan, nan, 42.400000000000006, nan, nan, nan, nan, nan, nan, nan, nan, nan, nan, nan, nan, nan, nan, nan, nan, nan, nan, nan, 57.91666666666667, nan, nan, nan, nan, nan, nan, nan, nan, nan, nan, nan, 48.0, 63.6, nan, nan, nan, nan, nan, 72.0, 72.0, nan, nan, nan, nan, nan, nan, nan, nan, nan, nan, nan, nan, nan, nan, nan, nan, nan, 78.8, 78.8, nan, nan, nan, 57.199999999999996, 38.0, nan, 71.6, 35.6, nan]\n"
     ]
    }
   ],
   "source": [
    "#print(list(sleep_data.columns))\n",
    "print(list(old_tfi)[0:100])\n",
    "print(list(sleep_data['tfi_score'])[0:100])"
   ]
  },
  {
   "cell_type": "code",
   "execution_count": 48,
   "metadata": {},
   "outputs": [
    {
     "name": "stdout",
     "output_type": "stream",
     "text": [
      "Index(['center_name', 'external_id', 'id', 'constant_id', 'age', 'sex',\n",
      "       'session_num', 'treatment_code', 'visit_type', 'position',\n",
      "       ...\n",
      "       'tschq-familiy', 'tfi_score', 'tfi_intrusive', 'tfi_sense_of_control',\n",
      "       'tfi_cognitive', 'tfi_sleep', 'tfi_auditory', 'tfi_relaxation',\n",
      "       'tfi_qol', 'tfi_emotional'],\n",
      "      dtype='object', length=248)\n",
      "248\n",
      "True\n",
      "2011-08-20\n"
     ]
    }
   ],
   "source": [
    "print(sleep_data.columns)\n",
    "print(len(list(sleep_data.columns)))\n",
    "print(list(sleep_data.columns).__contains__(\"tschq-tinside\"))\n",
    "print(sleep_data['visit_day'][0])"
   ]
  },
  {
   "cell_type": "code",
   "execution_count": 49,
   "metadata": {},
   "outputs": [
    {
     "name": "stdout",
     "output_type": "stream",
     "text": [
      "0       0\n",
      "1       0\n",
      "2       0\n",
      "3       0\n",
      "4       0\n",
      "       ..\n",
      "4842    0\n",
      "4843    0\n",
      "4844    0\n",
      "4845    0\n",
      "4846    0\n",
      "Name: lines_to_drop, Length: 4847, dtype: int64\n",
      "5682\n",
      "[1.0, 2.0]\n",
      "5854\n",
      "[2.0, 0.0]\n",
      "6174\n",
      "[1.0, 0.0]\n",
      "6329\n",
      "[0.0, 1.0]\n",
      "6600\n",
      "[0.0, 2.0]\n",
      "6730\n",
      "[2.0, 0.0]\n",
      "7079\n",
      "[2.0, 0.0, 3.0]\n",
      "7276\n",
      "[1.0, 2.0]\n",
      "7286\n",
      "[2.0, 3.0, nan]\n",
      "7373\n",
      "[1.0, 2.0]\n",
      "7379\n",
      "[3.0, 1.0, 2.0]\n",
      "7441\n",
      "[2.0, 1.0]\n",
      "7458\n",
      "[2.0, 0.0]\n",
      "7463\n",
      "[0.0, 2.0]\n",
      "7507\n",
      "[0.0, 2.0]\n",
      "7514\n",
      "[1.0, 2.0]\n",
      "7521\n",
      "[0.0, 2.0]\n",
      "7528\n",
      "[2.0, 1.0]\n",
      "7545\n",
      "[0.0, 2.0]\n",
      "7564\n",
      "[2.0, 0.0]\n",
      "7565\n",
      "[0.0, 2.0]\n",
      "7570\n",
      "[1.0, 2.0]\n",
      "7578\n",
      "[1.0, 2.0]\n",
      "7593\n",
      "[2.0, 2.0, 1.0]\n",
      "7638\n",
      "[2.0, 0.0]\n",
      "7665\n",
      "[1.0, 0.0, 0.0]\n",
      "7666\n",
      "[2.0, 1.0]\n",
      "7669\n",
      "[2.0, 1.0, 1.0]\n",
      "7702\n",
      "[0.0, 2.0]\n",
      "7705\n",
      "[0.0, 1.0]\n",
      "7721\n",
      "[2.0, 0.0]\n",
      "7722\n",
      "[2.0, 1.0]\n",
      "7752\n",
      "[0.0, 2.0]\n",
      "7766\n",
      "[2.0, 0.0]\n",
      "7778\n",
      "[2.0, 1.0]\n",
      "7801\n",
      "[1.0, 0.0]\n",
      "7803\n",
      "[1.0, 2.0]\n",
      "7804\n",
      "[0.0, 2.0]\n",
      "7813\n",
      "[3.0, nan, 1.0]\n",
      "7834\n",
      "[3.0, nan, 1.0]\n",
      "7837\n",
      "[0.0, 2.0]\n",
      "7839\n",
      "[3.0, nan, 1.0]\n",
      "7842\n",
      "[2.0, 1.0]\n",
      "7846\n",
      "[2.0, 1.0]\n",
      "7869\n",
      "[2.0, 2.0, 1.0, 2.0]\n",
      "7878\n",
      "[2.0, 1.0, 2.0]\n",
      "7886\n",
      "[2.0, 1.0]\n",
      "7903\n",
      "[0.0, 2.0]\n",
      "7925\n",
      "[2.0, 0.0]\n",
      "7943\n",
      "[0.0, 2.0]\n",
      "7955\n",
      "[2.0, 1.0, 1.0]\n",
      "7974\n",
      "[1.0, 2.0]\n",
      "8001\n",
      "[0.0, 2.0]\n",
      "8002\n",
      "[2.0, 1.0]\n",
      "8005\n",
      "[2.0, 1.0]\n",
      "8023\n",
      "[1.0, 0.0]\n",
      "8032\n",
      "[0.0, 1.0]\n",
      "8042\n",
      "[2.0, 1.0]\n",
      "8052\n",
      "[2.0, 0.0]\n",
      "8067\n",
      "[2.0, 1.0]\n",
      "8069\n",
      "[0.0, 1.0]\n",
      "8097\n",
      "[2.0, nan, 0.0]\n",
      "8106\n",
      "[0.0, 1.0]\n",
      "8107\n",
      "[0.0, 2.0]\n",
      "8120\n",
      "[0.0, 2.0]\n",
      "8123\n",
      "[2.0, 0.0]\n",
      "8130\n",
      "[1.0, 2.0, 2.0]\n",
      "8132\n",
      "[1.0, 2.0]\n",
      "8147\n",
      "[2.0, 0.0]\n",
      "8148\n",
      "[1.0, 2.0]\n",
      "8177\n",
      "[1.0, 2.0]\n",
      "8180\n",
      "[1.0, 2.0]\n",
      "8190\n",
      "[2.0, 1.0]\n",
      "8195\n",
      "[0.0, 2.0]\n",
      "8199\n",
      "[1.0, 0.0]\n",
      "8204\n",
      "[1.0, 2.0]\n",
      "8206\n",
      "[0.0, 2.0]\n",
      "8218\n",
      "[2.0, 0.0]\n",
      "8241\n",
      "[2.0, nan, 2.0, 0.0]\n",
      "8266\n",
      "[2.0, 1.0]\n",
      "8328\n",
      "[2.0, 1.0]\n",
      "8329\n",
      "[1.0, 2.0]\n",
      "8379\n",
      "[2.0, 0.0]\n",
      "8394\n",
      "[2.0, 0.0]\n",
      "8395\n",
      "[2.0, 1.0]\n",
      "8424\n",
      "[2.0, 1.0]\n",
      "8432\n",
      "[1.0, 0.0]\n",
      "8442\n",
      "[0.0, 2.0]\n",
      "8444\n",
      "[2.0, 1.0]\n",
      "8445\n",
      "[1.0, 2.0]\n",
      "8452\n",
      "[2.0, 0.0]\n",
      "8491\n",
      "[2.0, 1.0]\n",
      "8514\n",
      "[0.0, 2.0]\n",
      "8530\n",
      "[1.0, 2.0]\n",
      "8531\n",
      "[0.0, 2.0]\n",
      "8678\n",
      "[2.0, 1.0]\n",
      "8696\n",
      "[1.0, 0.0]\n",
      "8699\n",
      "[2.0, 2.0, 1.0]\n",
      "8720\n",
      "[1.0, 0.0]\n",
      "8732\n",
      "[3.0, 2.0, nan]\n",
      "8740\n",
      "[2.0, 1.0]\n",
      "8742\n",
      "[2.0, 1.0]\n",
      "8744\n",
      "[3.0, nan, 2.0, nan]\n",
      "8768\n",
      "[2.0, nan, 2.0, 0.0]\n",
      "8771\n",
      "[0.0, 2.0, nan]\n",
      "8796\n",
      "[2.0, 1.0]\n",
      "8804\n",
      "[2.0, 0.0]\n",
      "8808\n",
      "[1.0, 2.0]\n",
      "8812\n",
      "[0.0, 2.0]\n",
      "8824\n",
      "[1.0, 2.0, 1.0]\n",
      "8826\n",
      "[1.0, 2.0]\n",
      "9956\n",
      "[2.0, 0.0]\n",
      "9979\n",
      "[0.0, 2.0, 0.0]\n",
      "9980\n",
      "[2.0, 1.0]\n",
      "9988\n",
      "[0.0, 2.0]\n",
      "10010\n",
      "[0.0, 2.0]\n",
      "10065\n",
      "[2.0, 1.0]\n",
      "10136\n",
      "[2.0, 0.0]\n",
      "10142\n",
      "[2.0, 0.0]\n",
      "10145\n",
      "[1.0, 2.0, 2.0]\n",
      "10368\n",
      "[2.0, 0.0]\n",
      "10428\n",
      "[1.0, 0.0]\n",
      "10487\n",
      "[2.0, 0.0]\n",
      "10506\n",
      "[2.0, 0.0]\n",
      "10616\n",
      "[1.0, 2.0]\n",
      "10819\n",
      "[1.0, 2.0]\n",
      "11014\n",
      "[0.0, 2.0]\n",
      "11279\n",
      "[1.0, 2.0]\n",
      "11796\n",
      "[2.0, 0.0]\n",
      "[2, 6, 11, 14, 16, 31, 43, 44, 51, 63, 64, 71, 77, 79, 83, 85, 88, 89, 90, 96, 99, 101, 102, 139, 204, 212, 237, 438, 528, 544, 639, 640, 642, 687, 738, 820, 826, 886, 959, 1056, 1112, 1149, 1188, 1202, 1205, 1231, 1239, 1241, 1290, 1337, 1356, 1357, 1418, 1448, 1449, 1487, 1535, 1540, 1548, 1549, 1562, 1618, 1619, 1622, 1628, 1631, 1633, 1639, 1640, 1644, 1646, 1648, 1653, 1666, 1669, 1672, 1676, 1692, 1693, 1697, 1707, 1709, 1715, 1717, 1723, 1733, 1736, 1739, 1742, 1749, 1751, 1757, 1760, 1763, 1766, 1769, 1771, 1774, 1776, 1784, 1786, 1791, 1793, 1796, 1798, 1805, 1816, 1820, 1823, 1826, 1829, 1838, 1840, 1846, 1852, 1853, 1855, 1857, 1859, 1861, 1866, 1868, 1871, 1875, 1877, 1878, 1881, 1891, 1894, 1898, 1907, 1912, 1916, 1918, 1920, 1922, 1927, 1930, 1933, 1939, 1942, 1946, 1952, 1954, 1956, 1959, 1960, 1961, 1964, 1975, 1980, 1985, 1998, 2000, 2004, 2008, 2022, 2024, 2027, 2028, 2030, 2037, 2040, 2042, 2044, 2051, 2053, 2059, 2064, 2066, 2073, 2074, 2079, 2083, 2088, 2090, 2095, 2098, 2101, 2107, 2110, 2115, 2120, 2122, 2124, 2128, 2131, 2133, 2136, 2142, 2143, 2149, 2158, 2160, 2163, 2165, 2169, 2171, 2172, 2176, 2179, 2180, 2184, 2189, 2191, 2193, 2197, 2203, 2206, 2212, 2217, 2218, 2219, 2220, 2222, 2223, 2224, 2229, 2235, 2236, 2238, 2240, 2244, 2248, 2259, 2260, 2262, 2266, 2268, 2279, 2280, 2287, 2289, 2296, 2298, 2302, 2305, 2307, 2309, 2313, 2316, 2323, 2327, 2328, 2331, 2339, 2342, 2348, 2350, 2353, 2357, 2358, 2361, 2365, 2367, 2379, 2385, 2387, 2389, 2392, 2408, 2409, 2412, 2414, 2415, 2423, 2426, 2430, 2431, 2433, 2435, 2439, 2441, 2446, 2452, 2462, 2464, 2468, 2470, 2473, 2487, 2489, 2490, 2499, 2502, 2505, 2507, 2508, 2511, 2519, 2521, 2528, 2531, 2537, 2541, 2544, 2550, 2551, 2554, 2557, 2558, 2559, 2560, 2566, 2571, 2575, 2577, 2579, 2584, 2586, 2588, 2589, 2590, 2593, 2597, 2599, 2607, 2611, 2616, 2620, 2624, 2629, 2630, 2633, 2636, 2639, 2645, 2650, 2653, 2657, 2660, 2664, 2665, 2669, 2676, 2682, 2684, 2690, 2697, 2699, 2702, 2706, 2707, 2708, 2712, 2715, 2722, 2725, 2727, 2729, 2739, 2741, 2745, 2758, 2766, 2770, 2772, 2781, 2782, 2788, 2797, 2800, 2802, 2803, 2808, 2813, 2815, 2827, 2831, 2837, 2841, 2846, 2848, 2849, 2850, 2854, 2855, 2858, 2862, 2865, 2868, 2873, 2876, 2882, 2884, 2886, 2891, 2892, 2897, 2899, 2901, 2915, 2925, 2927, 2933, 2942, 2943, 2945, 2948, 2950, 2957, 2961, 2979, 2989, 2993, 2996, 2997, 3005, 3011, 3012, 3018, 3022, 3030, 3035, 3037, 3046, 3056, 3061, 3065, 3068, 3076, 3088, 3089, 3091, 3092, 3098, 3106, 3114, 3117, 3119, 3130, 3139, 3141, 3145, 3146, 3154, 3156, 3157, 3171, 3187, 3193, 3195, 3198, 3200, 3205, 3211, 3217, 3221, 3222, 3224, 3226, 3228, 3230, 3231, 3243, 3247, 3250, 3254, 3257, 3262, 3268, 3269, 3272, 3273, 3274, 3277, 3280, 3281, 3284, 3285, 3287, 3289, 3291, 3293, 3294, 3295, 3300, 3301, 3302, 3305, 3306, 3308, 3309, 3315, 3317, 3320, 3325, 3330, 3334, 3336, 3338, 3340, 3344, 3345, 3348, 3350, 3354, 3358, 3360, 3363, 3366, 3368, 3369, 3372, 3375, 3376, 3379, 3383, 3387, 3390, 3394, 3399, 3401, 3409, 3415, 3417, 3428, 3430, 3438, 3444, 3446, 3450, 3456, 3462, 3465, 3469, 3471, 3473, 3475, 3480, 3485, 3490, 3493, 3495, 3496, 3501, 3504, 3506, 3509, 3511, 3514, 3518, 3521, 3527, 3531, 3533, 3535, 3538, 3541, 3543, 3544, 3546, 3550, 3555, 3563, 3565, 3567, 3569, 3572, 3575, 3578, 3584, 3586, 3590, 3591, 3592, 3594, 3596, 3602, 3606, 3611, 3613, 3617, 3619, 3621, 3625, 3627, 3632, 3635, 3638, 3640, 3642, 3653, 3656, 3659, 3662, 3664, 3666, 3671, 3672, 3674, 3677, 3679, 3681, 3683, 3687, 3691, 3695, 3701, 3705, 3706, 3708, 3721, 3732, 3754, 3755, 3799, 3804, 3807, 3835, 3866, 3891, 3909, 3913, 3930, 3974, 3978, 3990, 4023, 4039, 4048, 4055, 4069, 4092, 4108, 4143, 4176, 4178, 4196, 4200, 4201, 4206, 4212, 4229, 4247, 4252, 4256, 4297, 4372, 4399, 4438, 4500, 4558, 4605, 4698, 4746, 4824]\n"
     ]
    }
   ],
   "source": [
    "sleep_data[\"lines_to_drop\"]=0\n",
    "print(sleep_data[\"lines_to_drop\"])\n",
    "all_patients = list(sleep_data[\"constant_id\"].unique())\n",
    "count_naps=0\n",
    "diverging=0\n",
    "constant=0\n",
    "\n",
    "\n",
    "\n",
    "maxi_list_ind=[]\n",
    "for pat in all_patients:\n",
    "    multiple_naps=0\n",
    "    flag_nap=0\n",
    "    #on constitue la liste des dates de consultation\n",
    "    list_visit = list(sleep_data.loc[sleep_data[\"constant_id\"]==pat][\"visit_day\"])\n",
    "    \n",
    "        \n",
    "    #on teste s'il y a plus d'une entrée pour un constant_id\n",
    "    if len(list_visit)>1:\n",
    "        list_ind = list(sleep_data.loc[sleep_data[\"constant_id\"]==pat].index)\n",
    "        list_dates=[]\n",
    "        for elm in list_visit:\n",
    "            if str(elm)!=\"nan\":\n",
    "                list_dates.append(datetime.strptime(elm, '%Y-%m-%d'))\n",
    "                if str(list(sleep_data['tschq-nap'][sleep_data[\"constant_id\"]==pat])[0])!=\"nan\":\n",
    "                    flag_nap=1\n",
    "                    multiple_naps+=1\n",
    "            #pas oublier de supprimer les lignes avec des nan_dans ce champ!!\n",
    "\n",
    "        mini = list_dates.index(min(list_dates))\n",
    "        del  list_ind[mini]\n",
    "        maxi_list_ind.extend(list_ind)\n",
    "    else:\n",
    "        if str(list(sleep_data['tschq-nap'][sleep_data[\"constant_id\"]==pat])[0])!=\"nan\":\n",
    "            flag_nap=1\n",
    "    count_naps+=flag_nap\n",
    "    if multiple_naps>1:\n",
    "        listy= list(sleep_data['tschq-nap'][sleep_data[\"constant_id\"]==pat].unique())\n",
    "        listy=[str(r) for r in listy]\n",
    "        if len(listy)>1:\n",
    "            if not (listy.__contains__(\"nan\") and len(listy)==2):\n",
    "                if not (listy.__contains__(\"3.0\") and len(listy)==2):\n",
    "                    print(pat)\n",
    "                    print(list(sleep_data['tschq-nap'][sleep_data[\"constant_id\"]==pat]))\n",
    "                    diverging+=1\n",
    "                else:\n",
    "                    constant+=1\n",
    "            else:\n",
    "                constant+=1\n",
    "                \n",
    "            \n",
    "        else:\n",
    "            if len(listy)==1:\n",
    "             if not listy.__contains__(\"nan\"):\n",
    "                    constant+=1\n",
    "print(maxi_list_ind)\n",
    "    #si situation avec 2 entrées même date alors on regarde et on traite manuellement (dire à qui ça arrive)\n",
    "    #sinon on enlève la plus petite date\n",
    "    #pour chaque élément de la liste restante on supprime dans la databse les rows associées"
   ]
  },
  {
   "cell_type": "code",
   "execution_count": 50,
   "metadata": {},
   "outputs": [
    {
     "name": "stdout",
     "output_type": "stream",
     "text": [
      "4039\n",
      "129\n",
      "415\n",
      "0.23713235294117646\n",
      "544\n"
     ]
    }
   ],
   "source": [
    "print(count_naps)\n",
    "print(diverging)\n",
    "print(constant)\n",
    "print(diverging/(constant+diverging))\n",
    "print((constant+diverging))"
   ]
  },
  {
   "cell_type": "code",
   "execution_count": 51,
   "metadata": {},
   "outputs": [
    {
     "name": "stdout",
     "output_type": "stream",
     "text": [
      "647\n",
      "4847\n",
      "4200\n"
     ]
    }
   ],
   "source": [
    "#à n'executer qu'une fois\n",
    "print(len(maxi_list_ind))\n",
    "print(len(sleep_data))\n",
    "sleep_data.drop(maxi_list_ind, inplace=True)\n",
    "print(len(sleep_data))"
   ]
  },
  {
   "cell_type": "code",
   "execution_count": 52,
   "metadata": {},
   "outputs": [
    {
     "name": "stdout",
     "output_type": "stream",
     "text": [
      "4200\n",
      "4200\n"
     ]
    }
   ],
   "source": [
    "print(len(sleep_data))\n",
    "print(len(sleep_data[\"constant_id\"].unique()))"
   ]
  },
  {
   "cell_type": "code",
   "execution_count": null,
   "metadata": {},
   "outputs": [],
   "source": [
    "#intruders : ceux qui ont des doublons de dates où il faudra checker manuellement\n",
    "5668\n",
    "7955\n",
    "8154\n",
    "9933\n",
    "10016\n",
    "10465\n",
    "10556\n",
    "10947\n",
    "11137"
   ]
  },
  {
   "cell_type": "code",
   "execution_count": 54,
   "metadata": {},
   "outputs": [],
   "source": [
    "columns_to_drop = sleep_data.columns[sleep_data.columns.str.startswith('tschq_') |\n",
    "                                     sleep_data.columns.str.contains('validation') |\n",
    "                                     sleep_data.columns.str.contains('whoqol_bref_') |\n",
    "                                     sleep_data.columns.str.contains('bfi') |\n",
    "                                     sleep_data.columns.str.contains('visit_type') |\n",
    "                                     sleep_data.columns.str.contains('center_name') |\n",
    "                                     sleep_data.columns.str.contains('treatment_code') |\n",
    "                                     sleep_data.columns.str.contains('session_num') |\n",
    "                                     sleep_data.columns.str.contains('visit_day') |\n",
    "                                     sleep_data.columns.str.contains('position') |\n",
    "                                     sleep_data.columns.str.startswith('id') |\n",
    "                                     sleep_data.columns.str.contains('external_id') \n",
    "                                     ]\n",
    "sleep_data = sleep_data.drop(columns=columns_to_drop)"
   ]
  },
  {
   "cell_type": "code",
   "execution_count": 55,
   "metadata": {},
   "outputs": [
    {
     "name": "stdout",
     "output_type": "stream",
     "text": [
      "['constant_id', 'age', 'sex', 'mdi_1', 'mdi_2', 'mdi_3', 'mdi_4', 'mdi_5', 'mdi_6', 'mdi_7', 'mdi_8a', 'mdi_8b', 'mdi_9', 'mdi_10a', 'mdi_10b', 'mdi_score', 'tfi_1', 'tfi_2', 'tfi_3', 'tfi_4', 'tfi_5', 'tfi_6', 'tfi_7', 'tfi_8', 'tfi_9', 'tfi_10', 'tfi_11', 'tfi_12', 'tfi_13', 'tfi_14', 'tfi_15', 'tfi_16', 'tfi_17', 'tfi_18', 'tfi_19', 'tfi_20', 'tfi_21', 'tfi_22', 'tfi_23', 'tfi_24', 'tfi_25', 'thi_1', 'thi_2', 'thi_3', 'thi_4', 'thi_5', 'thi_6', 'thi_7', 'thi_8', 'thi_9', 'thi_10', 'thi_11', 'thi_12', 'thi_13', 'thi_14', 'thi_15', 'thi_16', 'thi_17', 'thi_18', 'thi_19', 'thi_20', 'thi_21', 'thi_22', 'thi_23', 'thi_24', 'thi_25', 'thi_score', 'tq_1', 'tq_2', 'tq_3', 'tq_4', 'tq_5', 'tq_6', 'tq_7', 'tq_8', 'tq_9', 'tq_10', 'tq_11', 'tq_12', 'tq_13', 'tq_14', 'tq_15', 'tq_16', 'tq_17', 'tq_18', 'tq_19', 'tq_20', 'tq_21', 'tq_22', 'tq_23', 'tq_24', 'tq_25', 'tq_26', 'tq_27', 'tq_28', 'tq_29', 'tq_30', 'tq_31', 'tq_32', 'tq_33', 'tq_34', 'tq_35', 'tq_36', 'tq_37', 'tq_38', 'tq_39', 'tq_40', 'tq_41', 'tq_42', 'tq_43', 'tq_44', 'tq_45', 'tq_46', 'tq_47', 'tq_48', 'tq_49', 'tq_50', 'tq_51', 'tq_52', 'tq_score', 'ts_1', 'ts_2', 'ts_3', 'ts_4', 'ts_5', 'ts_6', 'whoqol_1', 'whoqol_2', 'whoqol_3', 'whoqol_4', 'tschq-personal_loudness', 'tschq-months_onset', 'tschq-awareness_time', 'tschq-angerness_time', 'tschq-psychiatry', 'tschq-neckpain', 'tschq-tmj', 'tschq-vertigo', 'tschq-headache', 'tschq-noise-pain', 'tschq-hyperacusis', 'tschq-ha', 'tschq-hearproblems', 'tschq-stress', 'tschq-sleep', 'tschq-nap', 'tschq-somatic', 'tschq-sounds-worsen-tinnitus', 'tschq-sounds-suppress-tinnitus', 'tschq-n-treatments', 'tschq-tinpitch', 'tschq-tintype', 'tschq-fluctuations', 'tschq-intermitent', 'tschq-tinside', 'tschq-pulsating', 'tschq-cause', 'tschq-innital-perception', 'tschq-familiy', 'tfi_score', 'tfi_intrusive', 'tfi_sense_of_control', 'tfi_cognitive', 'tfi_sleep', 'tfi_auditory', 'tfi_relaxation', 'tfi_qol', 'tfi_emotional', 'lines_to_drop']\n",
      "169\n",
      "True\n"
     ]
    }
   ],
   "source": [
    "print(list(sleep_data.columns))\n",
    "print(len(list(sleep_data.columns)))\n",
    "print(list(sleep_data.columns).__contains__(\"tschq-tinside\"))"
   ]
  },
  {
   "cell_type": "code",
   "execution_count": null,
   "metadata": {},
   "outputs": [],
   "source": []
  },
  {
   "cell_type": "code",
   "execution_count": 56,
   "metadata": {},
   "outputs": [
    {
     "name": "stdout",
     "output_type": "stream",
     "text": [
      "['constant_id', 'age', 'sex', 'mdi_1', 'mdi_2', 'mdi_3', 'mdi_4', 'mdi_5', 'mdi_6', 'mdi_7', 'mdi_8a', 'mdi_8b', 'mdi_9', 'mdi_10a', 'mdi_10b', 'mdi_score', 'tfi_1', 'tfi_2', 'tfi_3', 'tfi_4', 'tfi_5', 'tfi_6', 'tfi_7', 'tfi_8', 'tfi_9', 'tfi_10', 'tfi_11', 'tfi_12', 'tfi_13', 'tfi_14', 'tfi_15', 'tfi_16', 'tfi_17', 'tfi_18', 'tfi_19', 'tfi_20', 'tfi_21', 'tfi_22', 'tfi_23', 'tfi_24', 'tfi_25', 'thi_1', 'thi_2', 'thi_3', 'thi_4', 'thi_5', 'thi_6', 'thi_7', 'thi_8', 'thi_9', 'thi_10', 'thi_11', 'thi_12', 'thi_13', 'thi_14', 'thi_15', 'thi_16', 'thi_17', 'thi_18', 'thi_19', 'thi_20', 'thi_21', 'thi_22', 'thi_23', 'thi_24', 'thi_25', 'thi_score', 'tq_1', 'tq_2', 'tq_3', 'tq_4', 'tq_5', 'tq_6', 'tq_7', 'tq_8', 'tq_9', 'tq_10', 'tq_11', 'tq_12', 'tq_13', 'tq_14', 'tq_15', 'tq_16', 'tq_17', 'tq_18', 'tq_19', 'tq_20', 'tq_21', 'tq_22', 'tq_23', 'tq_24', 'tq_25', 'tq_26', 'tq_27', 'tq_28', 'tq_29', 'tq_30', 'tq_31', 'tq_32', 'tq_33', 'tq_34', 'tq_35', 'tq_36', 'tq_37', 'tq_38', 'tq_39', 'tq_40', 'tq_41', 'tq_42', 'tq_43', 'tq_44', 'tq_45', 'tq_46', 'tq_47', 'tq_48', 'tq_49', 'tq_50', 'tq_51', 'tq_52', 'tq_score', 'ts_1', 'ts_2', 'ts_3', 'ts_4', 'ts_5', 'ts_6', 'whoqol_1', 'whoqol_2', 'whoqol_3', 'whoqol_4', 'tschq-personal_loudness', 'tschq-months_onset', 'tschq-awareness_time', 'tschq-angerness_time', 'tschq-psychiatry', 'tschq-neckpain', 'tschq-tmj', 'tschq-vertigo', 'tschq-headache', 'tschq-noise-pain', 'tschq-hyperacusis', 'tschq-ha', 'tschq-hearproblems', 'tschq-stress', 'tschq-sleep', 'tschq-nap', 'tschq-somatic', 'tschq-sounds-worsen-tinnitus', 'tschq-sounds-suppress-tinnitus', 'tschq-n-treatments', 'tschq-tinpitch', 'tschq-tintype', 'tschq-fluctuations', 'tschq-intermitent', 'tschq-tinside', 'tschq-pulsating', 'tschq-cause', 'tschq-innital-perception', 'tschq-familiy', 'tfi_score', 'tfi_intrusive', 'tfi_sense_of_control', 'tfi_cognitive', 'tfi_sleep', 'tfi_auditory', 'tfi_relaxation', 'tfi_qol', 'tfi_emotional', 'lines_to_drop']\n"
     ]
    }
   ],
   "source": [
    "print(list(sleep_data.columns))"
   ]
  },
  {
   "cell_type": "markdown",
   "metadata": {},
   "source": [
    "# Raffinement datas tschq"
   ]
  },
  {
   "cell_type": "code",
   "execution_count": 57,
   "metadata": {},
   "outputs": [
    {
     "name": "stdout",
     "output_type": "stream",
     "text": [
      "64\n",
      "313\n"
     ]
    }
   ],
   "source": [
    "# on drop transforme les données missing en données manquantes\n",
    "dic_to_swap={'tschq-psychiatry':2, 'tschq-neckpain':2, 'tschq-tmj':2, 'tschq-vertigo':2, 'tschq-headache':2, 'tschq-noise-pain':2, \n",
    "             'tschq-hyperacusis':5, 'tschq-ha':4, 'tschq-hearproblems':2, 'tschq-stress':3, 'tschq-sleep':3, 'tschq-nap':3, \n",
    "             'tschq-somatic':2, 'tschq-sounds-worsen-tinnitus':3, 'tschq-sounds-suppress-tinnitus':3, \n",
    "             'tschq-tinpitch':4, 'tschq-tintype':4, 'tschq-fluctuations':2, 'tschq-intermitent':2, 'tschq-tinside':7, \n",
    "             'tschq-pulsating':3} #dico des valeurs à remplacer par des nan\n",
    "print(sleep_data['tschq-tintype'].isnull().sum())\n",
    "for col in dic_to_swap:\n",
    "    sleep_data.loc[sleep_data[col]==dic_to_swap[col],col]=np.nan\n",
    "print(sleep_data['tschq-tintype'].isnull().sum())"
   ]
  },
  {
   "cell_type": "code",
   "execution_count": 58,
   "metadata": {},
   "outputs": [],
   "source": [
    "sleep_data['tinnitus_laterality'] = sleep_data['tschq-tinside'].map({0:0, 1:0, 2:1,3:1,4:1,5:1,6:2},\n",
    "                             na_action=None)"
   ]
  },
  {
   "cell_type": "code",
   "execution_count": 59,
   "metadata": {},
   "outputs": [
    {
     "name": "stdout",
     "output_type": "stream",
     "text": [
      "0       0.0\n",
      "1       0.0\n",
      "3       1.0\n",
      "4       1.0\n",
      "5       1.0\n",
      "       ... \n",
      "4842    1.0\n",
      "4843    1.0\n",
      "4844    1.0\n",
      "4845    1.0\n",
      "4846    1.0\n",
      "Name: tinnitus_laterality, Length: 4200, dtype: float64\n"
     ]
    }
   ],
   "source": [
    "print(sleep_data['tinnitus_laterality'])"
   ]
  },
  {
   "cell_type": "code",
   "execution_count": 60,
   "metadata": {},
   "outputs": [],
   "source": [
    "sleep_data['tschq-nap'] = sleep_data['tschq-nap'].map({0:-1, 1:1, 2:0},\n",
    "                             na_action=None)"
   ]
  },
  {
   "cell_type": "code",
   "execution_count": 61,
   "metadata": {},
   "outputs": [],
   "source": [
    "sleep_data.to_csv(\"Jorge_Straudinger_data_clean_v2.csv\", sep=\";\")"
   ]
  },
  {
   "cell_type": "markdown",
   "metadata": {},
   "source": [
    "# Petit checkup"
   ]
  },
  {
   "cell_type": "code",
   "execution_count": null,
   "metadata": {},
   "outputs": [],
   "source": [
    "sleep_data2 = pd.read_csv(\"Jorge_Straudinger_data_clean_v2.csv\", sep=\";\", na_values=[-1, \"\", \"NA\", \"N/A\", \"0000-00-00\"],\n",
    "    # Tell pandas to use all rows to guess the column types\n",
    "    low_memory=False)"
   ]
  },
  {
   "cell_type": "code",
   "execution_count": 67,
   "metadata": {},
   "outputs": [
    {
     "name": "stdout",
     "output_type": "stream",
     "text": [
      "4200\n",
      "4200\n"
     ]
    }
   ],
   "source": [
    "#values should be equal to confirm that no patient is present twice\n",
    "print(len(sleep_data2[\"constant_id\"]))\n",
    "print(len(list(sleep_data2[\"constant_id\"].unique())))"
   ]
  },
  {
   "cell_type": "code",
   "execution_count": null,
   "metadata": {},
   "outputs": [],
   "source": []
  }
 ],
 "metadata": {
  "kernelspec": {
   "display_name": "Python 3",
   "language": "python",
   "name": "python3"
  },
  "language_info": {
   "codemirror_mode": {
    "name": "ipython",
    "version": 3
   },
   "file_extension": ".py",
   "mimetype": "text/x-python",
   "name": "python",
   "nbconvert_exporter": "python",
   "pygments_lexer": "ipython3",
   "version": "3.8.5"
  }
 },
 "nbformat": 4,
 "nbformat_minor": 4
}
