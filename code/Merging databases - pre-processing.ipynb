{
 "cells": [
  {
   "cell_type": "code",
   "execution_count": 38,
   "metadata": {},
   "outputs": [],
   "source": [
    "import pandas as pd\n",
    "import os\n",
    "import numpy as np\n",
    "from datetime import datetime"
   ]
  },
  {
   "cell_type": "code",
   "execution_count": 39,
   "metadata": {},
   "outputs": [
    {
     "name": "stdout",
     "output_type": "stream",
     "text": [
      "['Unnamed: 0', 'constant_id', 'age', 'sex', 'mdi_1', 'mdi_2', 'mdi_3', 'mdi_4', 'mdi_5', 'mdi_6', 'mdi_7', 'mdi_8a', 'mdi_8b', 'mdi_9', 'mdi_10a', 'mdi_10b', 'mdi_score', 'tfi_1', 'tfi_2', 'tfi_3', 'tfi_4', 'tfi_5', 'tfi_6', 'tfi_7', 'tfi_8', 'tfi_9', 'tfi_10', 'tfi_11', 'tfi_12', 'tfi_13', 'tfi_14', 'tfi_15', 'tfi_16', 'tfi_17', 'tfi_18', 'tfi_19', 'tfi_20', 'tfi_21', 'tfi_22', 'tfi_23', 'tfi_24', 'tfi_25', 'thi_1', 'thi_2', 'thi_3', 'thi_4', 'thi_5', 'thi_6', 'thi_7', 'thi_8', 'thi_9', 'thi_10', 'thi_11', 'thi_12', 'thi_13', 'thi_14', 'thi_15', 'thi_16', 'thi_17', 'thi_18', 'thi_19', 'thi_20', 'thi_21', 'thi_22', 'thi_23', 'thi_24', 'thi_25', 'thi_score', 'tq_1', 'tq_2', 'tq_3', 'tq_4', 'tq_5', 'tq_6', 'tq_7', 'tq_8', 'tq_9', 'tq_10', 'tq_11', 'tq_12', 'tq_13', 'tq_14', 'tq_15', 'tq_16', 'tq_17', 'tq_18', 'tq_19', 'tq_20', 'tq_21', 'tq_22', 'tq_23', 'tq_24', 'tq_25', 'tq_26', 'tq_27', 'tq_28', 'tq_29', 'tq_30', 'tq_31', 'tq_32', 'tq_33', 'tq_34', 'tq_35', 'tq_36', 'tq_37', 'tq_38', 'tq_39', 'tq_40', 'tq_41', 'tq_42', 'tq_43', 'tq_44', 'tq_45', 'tq_46', 'tq_47', 'tq_48', 'tq_49', 'tq_50', 'tq_51', 'tq_52', 'tq_score', 'ts_1', 'ts_2', 'ts_3', 'ts_4', 'ts_5', 'ts_6', 'whoqol_1', 'whoqol_2', 'whoqol_3', 'whoqol_4', 'tschq-personal_loudness', 'tschq-months_onset', 'tschq-awareness_time', 'tschq-angerness_time', 'tschq-psychiatry', 'tschq-neckpain', 'tschq-tmj', 'tschq-vertigo', 'tschq-headache', 'tschq-noise-pain', 'tschq-hyperacusis', 'tschq-ha', 'tschq-hearproblems', 'tschq-stress', 'tschq-sleep', 'tschq-nap', 'tschq-somatic', 'tschq-sounds-worsen-tinnitus', 'tschq-sounds-suppress-tinnitus', 'tschq-n-treatments', 'tschq-tinpitch', 'tschq-tintype', 'tin_tonal', 'tschq-fluctuations', 'tschq-intermitent', 'tschq-tinside', 'tschq-pulsating', 'Puls_yes', 'puls_yes_but_not_heartbeat', 'Puls_no', 'tschq-cause', 'Cause_head_trauma_or_whisplash', 'cause_stress', 'cause_change_hearing', 'other', 'tschq-innital-perception', 'tschq-familiy', 'tfi_score', 'tfi_intrusive', 'tfi_sense_of_control', 'tfi_cognitive', 'tfi_sleep', 'tfi_auditory', 'tfi_relaxation', 'tfi_qol', 'tfi_emotional', 'lines_to_drop', 'tinnitus_laterality']\n",
      "['Unnamed: 0', 'constant_id', 'age', 'sex', 'ts_2', 'ts_4', 'tschq-personal_loudness', 'tschq-months_onset', 'tschq-awareness_time', 'tschq-neckpain', 'tschq-tmj', 'tschq-headache', 'tschq-hearproblems', 'tschq-stress', 'tschq-sleep', 'tschq-nap', 'tschq-somatic', 'tschq-sounds-worsen-tinnitus', 'tschq-sounds-suppress-tinnitus', 'tschq-tintype', 'tin_tonal', 'tschq-fluctuations', 'tschq-intermitent', 'tschq-pulsating', 'Puls_yes', 'puls_yes_but_not_heartbeat', 'Puls_no', 'tschq-cause', 'Cause_head_trauma_or_whisplash', 'cause_stress', 'cause_change_hearing', 'other']\n",
      "32\n"
     ]
    }
   ],
   "source": [
    "os.chdir(\"D:/Documents/Thèse EDISCE/TinniNap_DB_study/data/merge_DB/\")\n",
    "sleep_data = pd.read_csv(\"Jorge_Straudinger_data_clean_v4.csv\", sep=\";\",\n",
    "    # Tell pandas to use all rows to guess the column types\n",
    "    low_memory=False)\n",
    "print(list(sleep_data.columns))\n",
    "columns_to_drop = ['mdi_1', 'mdi_2', 'mdi_3', 'mdi_4', 'mdi_5', 'mdi_6', 'mdi_7', 'mdi_8a', 'mdi_8b', 'mdi_9', 'mdi_10a', 'mdi_10b', 'mdi_score', 'tfi_1', 'tfi_2', 'tfi_3', 'tfi_4', 'tfi_5', 'tfi_6', 'tfi_7', 'tfi_8', 'tfi_9', 'tfi_10', 'tfi_11', 'tfi_12', 'tfi_13', 'tfi_14', 'tfi_15', 'tfi_16', 'tfi_17', 'tfi_18', 'tfi_19', 'tfi_20', 'tfi_21', 'tfi_22', 'tfi_23', 'tfi_24', 'tfi_25', 'thi_1', 'thi_2', 'thi_3', 'thi_4', 'thi_5', 'thi_6', 'thi_7', 'thi_8', 'thi_9', 'thi_10', 'thi_11', 'thi_12', 'thi_13', 'thi_14', 'thi_15', 'thi_16', 'thi_17', 'thi_18', 'thi_19', 'thi_20', 'thi_21', 'thi_22', 'thi_23', 'thi_24', 'thi_25', 'thi_score', 'tq_1', 'tq_2', 'tq_3', 'tq_4', 'tq_5', 'tq_6', 'tq_7', 'tq_8', 'tq_9', 'tq_10', 'tq_11', 'tq_12', 'tq_13', 'tq_14', 'tq_15', 'tq_16', 'tq_17', 'tq_18', 'tq_19', 'tq_20', 'tq_21', 'tq_22', 'tq_23', 'tq_24', 'tq_25', 'tq_26', 'tq_27', 'tq_28', 'tq_29', 'tq_30', 'tq_31', 'tq_32', 'tq_33', 'tq_34', 'tq_35', 'tq_36', 'tq_37', 'tq_38', 'tq_39', 'tq_40', 'tq_41', 'tq_42', 'tq_43', 'tq_44', 'tq_45', 'tq_46', 'tq_47', 'tq_48', 'tq_49', 'tq_50', 'tq_51', 'tq_52', 'tq_score',\n",
    "                                      'ts_1', 'ts_3', 'ts_5', 'ts_6', 'whoqol_1', 'whoqol_2', 'whoqol_3', 'whoqol_4',\n",
    "                                     'tschq-familiy', 'tfi_score', 'tfi_intrusive', 'tfi_sense_of_control', 'tfi_cognitive', 'tfi_sleep', 'tfi_auditory', 'tfi_relaxation', 'tfi_qol', 'tfi_emotional', 'lines_to_drop', 'tinnitus_laterality',\n",
    "                                       'tschq-angerness_time', 'tschq-psychiatry', 'tschq-vertigo', 'tschq-noise-pain', 'tschq-hyperacusis', 'tschq-ha',\n",
    "                                       'tschq-n-treatments', 'tschq-tinpitch', 'tschq-tinside', 'tschq-innital-perception',\n",
    "                                       \n",
    "                                    ]\n",
    "sleep_data = sleep_data.drop(columns=columns_to_drop)\n",
    "print(list(sleep_data.columns))\n",
    "print(len(list(sleep_data.columns)))\n"
   ]
  },
  {
   "cell_type": "code",
   "execution_count": 40,
   "metadata": {},
   "outputs": [],
   "source": [
    "\n",
    "sleep_data['tschq-sounds-worsen-tinnitus'] = sleep_data['tschq-sounds-worsen-tinnitus'].map({0:1, 1:0, 2:np.nan},\n",
    "                             na_action=None)\n",
    "sleep_data['tschq-sounds-suppress-tinnitus'] = sleep_data['tschq-sounds-suppress-tinnitus'].map({0:1, 1:0, 2:np.nan},\n",
    "                             na_action=None)\n",
    "sleep_data[\"tschq-hearproblems\"] = sleep_data['tschq-hearproblems'].map({0:1, 1:0, 2:np.nan},\n",
    "                             na_action=None)\n",
    "sleep_data['tschq-headache'] = sleep_data['tschq-headache'].map({0:1, 1:0, 2:np.nan},\n",
    "                             na_action=None)\n",
    "sleep_data['tschq-neckpain'] = sleep_data['tschq-neckpain'].map({0:1, 1:0, 2:np.nan},\n",
    "                             na_action=None)\n",
    "sleep_data['tschq-tmj'] = sleep_data['tschq-tmj'].map({0:1, 1:0, 2:np.nan},\n",
    "                             na_action=None)\n",
    "sleep_data['tschq-cause'] = sleep_data['tschq-cause'].map({0:1, 1:0, 2:0,3:0,4:0,5:0,6:0,7:0},\n",
    "                             na_action=None)\n",
    "\n",
    "sleep_data['tschq-stress'] = sleep_data['tschq-stress'].map({0:-1, 1:1, 2:0},\n",
    "                             na_action=None)\n"
   ]
  },
  {
   "cell_type": "code",
   "execution_count": 42,
   "metadata": {},
   "outputs": [],
   "source": [
    "sleep_data.to_csv(\"getting_close_for_merge_TRI.csv\", sep=\";\")"
   ]
  },
  {
   "cell_type": "code",
   "execution_count": 43,
   "metadata": {},
   "outputs": [
    {
     "name": "stdout",
     "output_type": "stream",
     "text": [
      "['TimeTin-months', 'Female', 'Age', 'MeanLoudness', 'cause_Head or neck injury', 'cause_Psychological (stress, anxiety, depression)', 'cause_Noise trauma', 'Cause_change_hearing', 'ReactSound_Worse', 'HearingLoss', 'HearingLoss_Echelle', 'pain_cervical', 'Headache_YesorNo', 'Tin_somato', 'TMJ_problem', 'TinType_A pure tone / single pitch', 'TinType_A whooshing noise - not in time with the pulse', 'tin_puls', 'InflStress', 'InflAnxiety', 'InflGoodSleep', 'InflBadSleep', 'InflNap', 'Tin_masked', 'MeanAnnoyancePastWeek', 'AwarenessOpenEnded']\n"
     ]
    }
   ],
   "source": [
    "os.chdir(\"D:/Documents/Thèse EDISCE/TinniNap_DB_study/data/merge_DB/\")\n",
    "sleep_data2 = pd.read_csv(\"merge_DB_v2.csv\", sep=\";\",\n",
    "    # Tell pandas to use all rows to guess the column types\n",
    "    low_memory=False)\n",
    "print(list(sleep_data2.columns))\n",
    "\n"
   ]
  },
  {
   "cell_type": "code",
   "execution_count": 45,
   "metadata": {},
   "outputs": [],
   "source": [
    "sleep_data2['HearingLoss'] = sleep_data2['HearingLoss'].map({0:0, 1:1, 2:1,3:1,4:1,5:1},\n",
    "                             na_action=None)\n",
    "\n",
    "\n",
    "sleep_data2['InflStress'] = sleep_data2['InflStress'].map({-2:-1,-1:-1,0:0,1:1, 2:1},\n",
    "                             na_action=None)\n",
    "sleep_data2['InflNap'] = sleep_data2['InflNap'].map({-2:-1,-1:-1,0:0,1:1, 2:1},\n",
    "                             na_action=None)"
   ]
  },
  {
   "cell_type": "code",
   "execution_count": 46,
   "metadata": {},
   "outputs": [],
   "source": [
    "sleep_data2.to_csv(\"getting_close_for_merge_SM.csv\", sep=\";\")"
   ]
  },
  {
   "cell_type": "code",
   "execution_count": null,
   "metadata": {},
   "outputs": [],
   "source": [
    "# first list contains features from TRI, second from SM\n",
    "#this list only contains features that are already encoded similarly\n",
    "common_features=[['sex', 'age', 'tschq-months_onset', 'ts_2', 'ts_4', 'tschq-awareness_time'],['Female', 'Age', 'TimeTin-months', 'MeanLoudness', 'MeanAnnoyancePastWeek', 'AwarenessOpenEnded']] #ts_2 : VAS-L, ts_4 : annoyance\n",
    "#here are the features that need a little more work\n",
    "soon_common_features = [[],[]]"
   ]
  },
  {
   "cell_type": "code",
   "execution_count": 69,
   "metadata": {},
   "outputs": [],
   "source": [
    "\n"
   ]
  },
  {
   "cell_type": "code",
   "execution_count": null,
   "metadata": {},
   "outputs": [],
   "source": []
  },
  {
   "cell_type": "code",
   "execution_count": null,
   "metadata": {},
   "outputs": [],
   "source": []
  },
  {
   "cell_type": "code",
   "execution_count": null,
   "metadata": {},
   "outputs": [],
   "source": []
  },
  {
   "cell_type": "code",
   "execution_count": null,
   "metadata": {},
   "outputs": [],
   "source": []
  },
  {
   "cell_type": "code",
   "execution_count": null,
   "metadata": {},
   "outputs": [],
   "source": []
  },
  {
   "cell_type": "code",
   "execution_count": null,
   "metadata": {},
   "outputs": [],
   "source": []
  },
  {
   "cell_type": "markdown",
   "metadata": {},
   "source": [
    "# petit travail sur treatment count"
   ]
  },
  {
   "cell_type": "code",
   "execution_count": 67,
   "metadata": {},
   "outputs": [],
   "source": [
    "os.chdir(\"D:/Documents/Thèse EDISCE/TinniNap_DB_study/data/\")\n",
    "sleep_data = pd.read_csv(\"treatment_count.csv\", sep=\";\", na_values=[-1,4,5,6, \"\", \"NA\", \"N/A\", \"0000-00-00\"],\n",
    "    # Tell pandas to use all rows to guess the column types\n",
    "    low_memory=False)"
   ]
  },
  {
   "cell_type": "code",
   "execution_count": 68,
   "metadata": {},
   "outputs": [
    {
     "name": "stdout",
     "output_type": "stream",
     "text": [
      "      v_exp_tschq_q18_treatment_count\n",
      "0                                 2.0\n",
      "1                                 2.0\n",
      "2                                 2.0\n",
      "3                                 3.0\n",
      "4                                 1.0\n",
      "...                               ...\n",
      "4889                              0.0\n",
      "4890                              2.0\n",
      "4891                              1.0\n",
      "4892                              2.0\n",
      "4893                              1.0\n",
      "\n",
      "[4894 rows x 1 columns]\n",
      "[ 2.  3.  1.  0. nan]\n"
     ]
    }
   ],
   "source": [
    "print(sleep_data)\n",
    "print(sleep_data[\"v_exp_tschq_q18_treatment_count\"].unique())"
   ]
  },
  {
   "cell_type": "code",
   "execution_count": 69,
   "metadata": {},
   "outputs": [],
   "source": [
    "sleep_data=sleep_data.dropna()"
   ]
  },
  {
   "cell_type": "code",
   "execution_count": 70,
   "metadata": {},
   "outputs": [
    {
     "name": "stdout",
     "output_type": "stream",
     "text": [
      "      v_exp_tschq_q18_treatment_count\n",
      "0                                 2.0\n",
      "1                                 2.0\n",
      "2                                 2.0\n",
      "3                                 3.0\n",
      "4                                 1.0\n",
      "...                               ...\n",
      "4889                              0.0\n",
      "4890                              2.0\n",
      "4891                              1.0\n",
      "4892                              2.0\n",
      "4893                              1.0\n",
      "\n",
      "[3893 rows x 1 columns]\n",
      "[2. 3. 1. 0.]\n"
     ]
    }
   ],
   "source": [
    "print(sleep_data)\n",
    "print(sleep_data[\"v_exp_tschq_q18_treatment_count\"].unique())"
   ]
  },
  {
   "cell_type": "code",
   "execution_count": 71,
   "metadata": {},
   "outputs": [
    {
     "data": {
      "text/plain": [
       "v_exp_tschq_q18_treatment_count\n",
       "0.0     684\n",
       "1.0     765\n",
       "2.0    1502\n",
       "3.0     942\n",
       "dtype: int64"
      ]
     },
     "metadata": {},
     "output_type": "display_data"
    }
   ],
   "source": [
    "occur = sleep_data.groupby(['v_exp_tschq_q18_treatment_count']).size()\n",
    " \n",
    "# display occurrences of a particular column\n",
    "display(occur)"
   ]
  },
  {
   "cell_type": "code",
   "execution_count": 76,
   "metadata": {},
   "outputs": [],
   "source": [
    "moy = (765+1502*3+942*7)/3863"
   ]
  },
  {
   "cell_type": "code",
   "execution_count": 77,
   "metadata": {},
   "outputs": [
    {
     "data": {
      "text/plain": [
       "3.0714470618690135"
      ]
     },
     "execution_count": 77,
     "metadata": {},
     "output_type": "execute_result"
    }
   ],
   "source": [
    "moy"
   ]
  },
  {
   "cell_type": "code",
   "execution_count": null,
   "metadata": {},
   "outputs": [],
   "source": []
  },
  {
   "cell_type": "code",
   "execution_count": null,
   "metadata": {},
   "outputs": [],
   "source": []
  },
  {
   "cell_type": "code",
   "execution_count": null,
   "metadata": {},
   "outputs": [],
   "source": []
  },
  {
   "cell_type": "code",
   "execution_count": null,
   "metadata": {},
   "outputs": [],
   "source": []
  },
  {
   "cell_type": "code",
   "execution_count": null,
   "metadata": {},
   "outputs": [],
   "source": []
  },
  {
   "cell_type": "markdown",
   "metadata": {},
   "source": [
    "# Raffinement datas tschq"
   ]
  },
  {
   "cell_type": "code",
   "execution_count": null,
   "metadata": {},
   "outputs": [],
   "source": []
  },
  {
   "cell_type": "code",
   "execution_count": null,
   "metadata": {},
   "outputs": [],
   "source": []
  },
  {
   "cell_type": "code",
   "execution_count": null,
   "metadata": {},
   "outputs": [],
   "source": []
  },
  {
   "cell_type": "code",
   "execution_count": null,
   "metadata": {},
   "outputs": [],
   "source": []
  },
  {
   "cell_type": "code",
   "execution_count": null,
   "metadata": {},
   "outputs": [],
   "source": []
  },
  {
   "cell_type": "markdown",
   "metadata": {},
   "source": [
    "# Petit checkup"
   ]
  },
  {
   "cell_type": "code",
   "execution_count": null,
   "metadata": {},
   "outputs": [],
   "source": []
  },
  {
   "cell_type": "code",
   "execution_count": null,
   "metadata": {},
   "outputs": [],
   "source": []
  },
  {
   "cell_type": "code",
   "execution_count": null,
   "metadata": {},
   "outputs": [],
   "source": []
  }
 ],
 "metadata": {
  "kernelspec": {
   "display_name": "Python 3",
   "language": "python",
   "name": "python3"
  },
  "language_info": {
   "codemirror_mode": {
    "name": "ipython",
    "version": 3
   },
   "file_extension": ".py",
   "mimetype": "text/x-python",
   "name": "python",
   "nbconvert_exporter": "python",
   "pygments_lexer": "ipython3",
   "version": "3.8.5"
  }
 },
 "nbformat": 4,
 "nbformat_minor": 4
}
